{
 "cells": [
  {
   "cell_type": "code",
   "execution_count": 1,
   "id": "5c8b8925",
   "metadata": {},
   "outputs": [],
   "source": [
    "from qiskit import QuantumCircuit, QuantumRegister, ClassicalRegister\n",
    "import numpy as np\n",
    "import matplotlib.pyplot as plt\n",
    "from qiskit import QuantumCircuit, QuantumRegister, ClassicalRegister, AncillaRegister, transpile\n",
    "from qiskit_aer import Aer\n",
    "import itertools\n",
    "import random"
   ]
  },
  {
   "cell_type": "code",
   "execution_count": null,
   "id": "b87b816f",
   "metadata": {},
   "outputs": [],
   "source": [
    "# Insert the number of possible litrals here\n",
    "n = 7\n",
    "\n",
    "# Insert your boolean function here\n",
    "# Bfunc=[[]]\n",
    "\n",
    "# Example: \n",
    "# Bfunc=[[2, 5], [3, 4], [-5, -6], [-1, -2, -4], [1, -4, 6], [-3, 4, -5], [-1, 2, 3, -5, 6], [-2, 3, -4, 5, -6]]\n"
   ]
  },
  {
   "cell_type": "code",
   "execution_count": 3,
   "id": "08c3c637",
   "metadata": {},
   "outputs": [],
   "source": [
    "num_clauses = np.random.randint(3, 3*n)  # Random number of clauses between 3 and 3n\n",
    "\n",
    "\n",
    "def random_boolean_function(num_vars, num_clauses, clause_size_range=(2, n)):\n",
    "    \"\"\"\n",
    "    Generate a random Boolean function in CNF form.\n",
    "\n",
    "    Args:\n",
    "        num_vars (int): Number of variables.\n",
    "        num_clauses (int): Number of clauses.\n",
    "        clause_size_range (tuple): Min and max size of each clause.\n",
    "\n",
    "    Returns:\n",
    "        list of list of int: CNF clauses.\n",
    "    \"\"\"\n",
    "    clauses = []\n",
    "    for _ in range(num_clauses):\n",
    "        clause_size = random.randint(*clause_size_range)\n",
    "        vars_in_clause = random.sample(range(1, num_vars + 1), clause_size)\n",
    "        clause = [var if random.choice([True, False]) else -var for var in vars_in_clause]\n",
    "        clauses.append(clause)\n",
    "    return clauses"
   ]
  },
  {
   "cell_type": "markdown",
   "id": "b7c9285b",
   "metadata": {},
   "source": [
    "#### Uncomment the next line to generate a random boolean function"
   ]
  },
  {
   "cell_type": "code",
   "execution_count": 4,
   "id": "d9375320",
   "metadata": {},
   "outputs": [],
   "source": [
    "# Bfunc = random_boolean_function(n, num_clauses)\n",
    "# print(\"Random Bfunc:\", Bfunc)"
   ]
  },
  {
   "cell_type": "code",
   "execution_count": 5,
   "id": "c8f17197",
   "metadata": {},
   "outputs": [],
   "source": [
    "# Remove duplicate clauses (ignoring order and sign)\n",
    "seen = set()\n",
    "unique_Bfunc = []\n",
    "for clause in Bfunc:\n",
    "    key = tuple(sorted(clause))\n",
    "    if key not in seen:\n",
    "        seen.add(key)\n",
    "        unique_Bfunc.append(clause)\n",
    "Bfunc = unique_Bfunc"
   ]
  },
  {
   "cell_type": "code",
   "execution_count": 6,
   "id": "79305d75",
   "metadata": {},
   "outputs": [
    {
     "name": "stdout",
     "output_type": "stream",
     "text": [
      "Bfunc: [[-5, -6], [2, 5], [3, 4], [-3, 4, -5], [-1, -2, -4], [1, -4, 6], [-2, 3, -4, 5, -6], [-1, 2, 3, -5, 6]]\n"
     ]
    }
   ],
   "source": [
    "def sort_cnf_clauses(clauses):\n",
    "    \"\"\"\n",
    "    Sorts a list of CNF clauses for easier readability:\n",
    "    - Each clause is sorted by the absolute value of its literals.\n",
    "    - The list of clauses is sorted first by the sorted absolute values of literals,\n",
    "      then by the length of each clause.\n",
    "\n",
    "    Args:\n",
    "        clauses (list of list of int): The CNF clauses.\n",
    "\n",
    "    Returns:\n",
    "        list of list of int: The sorted CNF clauses.\n",
    "    \"\"\"\n",
    "    # Sort literals within each clause by absolute value\n",
    "    for clause in clauses:\n",
    "        clause.sort(key=lambda literal: abs(literal))\n",
    "    # Sort clauses by their sorted absolute literals, then by length\n",
    "    clauses.sort(key=lambda clause: (sorted([lit for lit in clause]), len(clause)))\n",
    "    clauses.sort(key=lambda x: len(x))\n",
    "    return clauses\n",
    "\n",
    "Bfunc = sort_cnf_clauses(Bfunc)\n",
    "print(\"Bfunc:\", Bfunc)"
   ]
  },
  {
   "cell_type": "code",
   "execution_count": 7,
   "id": "2490011a",
   "metadata": {},
   "outputs": [],
   "source": [
    "def clause_circ(clause, ancilla_reg, circuit):\n",
    "    \"\"\"\n",
    "    Marks the states that satisfy a given clause using an ancilla qubit.\n",
    "\n",
    "    Args:\n",
    "        clause (list of int): Clause as a list of literals (positive for variable, negative for negation).\n",
    "        ancilla_reg (AncillaRegister): Ancilla register (at least one qubit).\n",
    "        circuit (QuantumCircuit): The quantum circuit to modify.\n",
    "\n",
    "    Steps:\n",
    "    - Reset the ancilla qubit.\n",
    "    - For each positive literal, apply X to flip the control to |1⟩.\n",
    "    - Apply a multi-controlled X (MCX) gate with all clause qubits as controls and the ancilla as target.\n",
    "    - Undo the X gates on positive literals.\n",
    "    \"\"\"\n",
    "    circuit.reset(ancilla_reg[0])\n",
    "\n",
    "    # Flip positive literals so all controls are on |1>\n",
    "    for literal in clause:\n",
    "        if literal > 0:\n",
    "            circuit.x(abs(literal) - 1)\n",
    "\n",
    "    # Controls are the absolute variable indices minus 1 (0-based)\n",
    "    control_qubits = [abs(literal) - 1 for literal in clause]\n",
    "    circuit.mcx(control_qubits, ancilla_reg[0])\n",
    "\n",
    "    # Undo the X gates on positive literals\n",
    "    for literal in clause:\n",
    "        if literal > 0:\n",
    "            circuit.x(abs(literal) - 1)"
   ]
  },
  {
   "cell_type": "code",
   "execution_count": 8,
   "id": "c911943b",
   "metadata": {},
   "outputs": [],
   "source": [
    "def intersection(clause1, clause2, processed_literals, current_literal_idx, applied_clauses, intersection_queue):\n",
    "    \"\"\"\n",
    "    Finds an intersection between two clauses for SAT solving.\n",
    "\n",
    "    Args:\n",
    "        clause1 (list): The current clause being processed.\n",
    "        clause2 (list): Another clause to check for intersection.\n",
    "        processed_literals (list): List of literals processed so far.\n",
    "        current_literal_idx (int): Index of the current literal in clause1.\n",
    "        applied_clauses (list): List of clauses already applied/intersected.\n",
    "        intersection_queue (list): Queue/list of intersections for the current clause.\n",
    "\n",
    "    Returns:\n",
    "        list or None or int: Returns a pair [index, clause] if a valid intersection is found,\n",
    "        None if no intersection is possible, or -1 if intersection is invalid.\n",
    "    \"\"\"\n",
    "    \n",
    "    # Check for direct intersection: literal in both processed_literals and clause2, and clause2 not already applied\n",
    "    for literal in clause2:\n",
    "        if literal in processed_literals and clause2 not in applied_clauses:\n",
    "            return [abs(literal) - 1, clause2]\n",
    "\n",
    "    # Prepare the next literal to check\n",
    "    next_literal = current_literal_idx + 1\n",
    "    if next_literal not in clause2:\n",
    "        next_literal = -next_literal\n",
    "\n",
    "    # Check for intersection with already applied clauses\n",
    "    for idx, applied_clause in enumerate(applied_clauses):\n",
    "        if applied_clause == clause2:\n",
    "            for literal in clause2:\n",
    "                if not(abs(literal) in np.abs(processed_literals) and literal not in processed_literals):\n",
    "                    return [abs(literal) - 1, clause2]\n",
    "\n",
    "    # If next_literal is not in processed_literals, return it as intersection\n",
    "    if abs(next_literal) not in np.abs(processed_literals):\n",
    "        return [abs(next_literal) - 1, clause2]\n",
    "\n",
    "    # Otherwise, return the first literal in clause2 not in processed_literals\n",
    "    for literal in clause2:\n",
    "        if abs(literal) not in np.abs(processed_literals):\n",
    "            return [abs(literal) - 1, clause2]\n"
   ]
  },
  {
   "cell_type": "code",
   "execution_count": 9,
   "id": "b0035f9f",
   "metadata": {},
   "outputs": [],
   "source": [
    "def find_intersections(current_clause, current_literal, previous_clauses, recursion_count, intersection_queue, applied_queue, num_vars, depth=0, processed_literals=0, applied_clauses=None):\n",
    "    \"\"\"\n",
    "    Recursively finds intersections between clauses to build a queue of intersecting literals and clauses.\n",
    "\n",
    "    Args:\n",
    "        current_clause (list): The clause currently being processed.\n",
    "        current_literal (int): The literal currently being considered.\n",
    "        previous_clauses (list): List of previous clauses (subset of all clauses).\n",
    "        recursion_count (int): Counter for recursion or tracking (not always used).\n",
    "        intersection_queue (list): Queue/list of intersections for the current clause.\n",
    "        applied_queue (list): List of applied/intersected clauses so far.\n",
    "        num_vars (int): Number of variables.\n",
    "        depth (int, optional): Depth or recursion flag (default 0).\n",
    "        processed_literals (list or int, optional): List of literals processed so far (default 0, which is replaced by [current_literal]).\n",
    "        applied_clauses (list, optional): List of clauses already applied/intersected (default None).\n",
    "\n",
    "    Returns:\n",
    "        tuple: (intersection_queue, applied_clauses) - Updated queue of intersections and applied clauses.\n",
    "    \"\"\"\n",
    "    if processed_literals == 0:\n",
    "        processed_literals = [current_literal]\n",
    "    if applied_clauses is None:\n",
    "        applied_clauses = [current_clause]\n",
    "\n",
    "    if len(processed_literals) > num_vars:\n",
    "        return intersection_queue, applied_clauses\n",
    "\n",
    "    for idx, prev_clause in enumerate(previous_clauses):\n",
    "        if idx >= len(applied_queue):\n",
    "            break\n",
    "        for literal in prev_clause:\n",
    "            # Look for opposite sign of the same variable in a different clause\n",
    "            if (abs(literal) == abs(current_literal) and literal != current_literal and current_clause != prev_clause):\n",
    "                intersection_result = intersection(current_clause, prev_clause, processed_literals, applied_queue[idx][1][0], applied_clauses, intersection_queue)\n",
    "                if intersection_result is None:\n",
    "                    intersection_queue[0] = -len(applied_queue) - 1\n",
    "                    return intersection_queue, applied_clauses\n",
    "                if intersection_result in intersection_queue:\n",
    "                    intersection_queue.remove(intersection_result)\n",
    "                    intersection_queue[0] -= 1\n",
    "                applied_clauses.append(prev_clause)\n",
    "                intersection_queue[0] += 1\n",
    "                intersection_queue.append(intersection_result)\n",
    "\n",
    "                # Prepare next literal to process\n",
    "                next_literal = intersection_result[0] + 1\n",
    "                if next_literal not in intersection_result[1]:\n",
    "                    next_literal = -next_literal\n",
    "\n",
    "                # Recurse if next_literal not already processed\n",
    "                if next_literal not in processed_literals:\n",
    "                    processed_literals.append(next_literal)\n",
    "                    intersection_queue, applied_clauses = find_intersections(\n",
    "                        prev_clause, processed_literals[-1], previous_clauses, recursion_count,\n",
    "                        intersection_queue, applied_queue, num_vars, depth=depth+1,\n",
    "                        processed_literals=processed_literals, applied_clauses=applied_clauses\n",
    "                    )\n",
    "                break\n",
    "\n",
    "    return intersection_queue, applied_clauses\n"
   ]
  },
  {
   "cell_type": "code",
   "execution_count": 10,
   "id": "e0eff912",
   "metadata": {},
   "outputs": [],
   "source": [
    "def find_min(sublist_collection, max_value=1000):\n",
    "    \"\"\"\n",
    "    Find the sublist in sublist_collection with the minimal positive first element.\n",
    "\n",
    "    Args:\n",
    "        sublist_collection (list of lists): Each sublist starts with an integer (typically a cost or marker).\n",
    "        max_value (int, optional): Upper bound for the minimum search (default 1000).\n",
    "\n",
    "    Returns:\n",
    "        list: The sublist from sublist_collection with the smallest positive first element, or an empty list if none found.\n",
    "    \"\"\"\n",
    "    min_first_elem = max_value\n",
    "    min_sublist = []\n",
    "    for sublist in sublist_collection:\n",
    "        if sublist[0] >= 1 and sublist[0] < min_first_elem:\n",
    "            min_first_elem = sublist[0]\n",
    "            min_sublist = sublist\n",
    "            if min_first_elem == 1:\n",
    "                break\n",
    "    return min_sublist\n"
   ]
  },
  {
   "cell_type": "code",
   "execution_count": 11,
   "id": "5c6cfd67",
   "metadata": {},
   "outputs": [],
   "source": [
    "def Sat_solver(clauses, num_vars):\n",
    "    \"\"\"\n",
    "    Quantum SAT Solver: Constructs a quantum circuit to solve a Boolean SAT problem in CNF form.\n",
    "\n",
    "    Args:\n",
    "        clauses (list of list of int): The Boolean function in CNF, where each clause is a list of literals.\n",
    "        num_vars (int): Number of variables.\n",
    "\n",
    "    Returns:\n",
    "        tuple: (QuantumCircuit, complexity, cx_count)\n",
    "            - QuantumCircuit: The constructed quantum circuit for the SAT problem.\n",
    "            - complexity: The sum of minimal intersections per clause (or None if unsatisfiable).\n",
    "            - cx_count: The number of CX gates applied (as a measure of circuit complexity).\n",
    "    \"\"\"\n",
    "    qr = QuantumRegister(num_vars, 'q')\n",
    "    cr = ClassicalRegister(num_vars, 'c')\n",
    "    anc = AncillaRegister(1, 'anc')\n",
    "    qc = QuantumCircuit(qr, cr, anc)\n",
    "\n",
    "    qc.h(qr)  # Apply Hadamard to all variables\n",
    "\n",
    "    intersection_info = []\n",
    "    complexity = 1\n",
    "    cx_count = 0\n",
    "\n",
    "    for clause_idx, clause in enumerate(clauses):\n",
    "        clause_intersections = [[-1 - num_vars] for _ in range(num_vars)]\n",
    "\n",
    "        for literal in clause:\n",
    "            var_idx = abs(literal) - 1\n",
    "            clause_intersections[var_idx].append([var_idx, clause])\n",
    "            clause_intersections[var_idx][0] = 1\n",
    "            if intersection_info == []:\n",
    "                break\n",
    "            clause_intersections[var_idx] = find_intersections(\n",
    "                clause, literal, clauses[:clause_idx], cx_count,\n",
    "                clause_intersections[var_idx], intersection_info, num_vars,\n",
    "                depth=0, processed_literals=0, applied_clauses=None\n",
    "            )[0]\n",
    "            if clause_intersections[var_idx][0] == 1:\n",
    "                break\n",
    "\n",
    "        intersection_info.append(find_min(clause_intersections))\n",
    "        if intersection_info[-1] == []:\n",
    "            for item in clause_intersections:\n",
    "                if len(item) > 1:\n",
    "                    intersection_info[-1] = item\n",
    "                    break\n",
    "            if intersection_info[-1] == []:\n",
    "                print('No solution found')\n",
    "            complexity = None\n",
    "\n",
    "        for intersect in intersection_info[-1][1:]:\n",
    "            clause_circ(intersect[1], anc, qc)  # Mark the states using ancilla\n",
    "            qc.cx(anc[0], intersect[0])         # Remove the marked states\n",
    "            cx_count += 1\n",
    "        qc.barrier()\n",
    "\n",
    "    qc.measure(qr, cr)\n",
    "    if complexity is not None:\n",
    "        complexity = sum(item[0] for item in intersection_info)\n",
    "    return qc, complexity, cx_count\n"
   ]
  },
  {
   "cell_type": "code",
   "execution_count": 12,
   "id": "dd39f0e7",
   "metadata": {},
   "outputs": [],
   "source": [
    "circ, complexity, cxcount = Sat_solver(Bfunc, n)"
   ]
  },
  {
   "cell_type": "code",
   "execution_count": 13,
   "id": "be4c34c1",
   "metadata": {},
   "outputs": [],
   "source": [
    "# circ.draw('mpl')"
   ]
  },
  {
   "cell_type": "code",
   "execution_count": 14,
   "id": "d2797467",
   "metadata": {},
   "outputs": [],
   "source": [
    "simulator = Aer.get_backend('aer_simulator_statevector')"
   ]
  },
  {
   "cell_type": "markdown",
   "id": "1f2e749d",
   "metadata": {},
   "source": [
    "### All the measured states are a possible solution to the SAT problem"
   ]
  },
  {
   "cell_type": "code",
   "execution_count": 15,
   "id": "c1f239e0",
   "metadata": {},
   "outputs": [
    {
     "name": "stdout",
     "output_type": "stream",
     "text": [
      "{'0100110': 228, '1000111': 33, '1101110': 204, '0011101': 41, '0101110': 218, '1100110': 222, '0100111': 81, '1100111': 74, '1000110': 48, '0000111': 38, '0000110': 45, '1011101': 48}\n",
      "{'0000110': 45, '0000111': 38, '0011101': 41, '0100110': 228, '0100111': 81, '0101110': 218, '1000110': 48, '1000111': 33, '1011101': 48, '1100110': 222, '1100111': 74, '1101110': 204}\n",
      "Number of unique outcomes: 12\n",
      "complexity: 21\n"
     ]
    },
    {
     "data": {
      "image/png": "[encoded data removed]",
      "text/plain": [
       "<Figure size 640x480 with 1 Axes>"
      ]
     },
     "execution_count": 15,
     "metadata": {},
     "output_type": "execute_result"
    }
   ],
   "source": [
    "circuit = transpile(circ, simulator)\n",
    "shot=2**n *10\n",
    "job = simulator.run(circuit, shots=shot)\n",
    "result = job.result()\n",
    "\n",
    "counts = result.get_counts()\n",
    "print(counts)\n",
    "sorted_counts = dict(sorted(result.get_counts().items()))\n",
    "print(sorted_counts)\n",
    "\n",
    "from qiskit.visualization import plot_histogram\n",
    "print(\"Number of unique outcomes:\", len(counts))\n",
    "print('complexity:', complexity)\n",
    "# Plot the histogram of the counts\n",
    "plot_histogram(counts)\n"
   ]
  },
  {
   "cell_type": "markdown",
   "id": "748b3ce3",
   "metadata": {},
   "source": [
    "### Classical verification of the solution"
   ]
  },
  {
   "cell_type": "code",
   "execution_count": 16,
   "id": "6e57794f",
   "metadata": {},
   "outputs": [],
   "source": [
    "def is_satisfiable(clauses, num_vars):\n",
    "    \"\"\"\n",
    "    Find all satisfying assignments for a Boolean SAT problem in CNF.\n",
    "\n",
    "    Args:\n",
    "        clauses (list of list of int): Each clause is a list of integers, where\n",
    "            positive means the variable, negative means its negation.\n",
    "        num_vars (int): Number of variables.\n",
    "\n",
    "    Returns:\n",
    "        list of str: Each string is a satisfying assignment as a bitstring.\n",
    "    \"\"\"\n",
    "    solutions = []\n",
    "    for assignment in itertools.product([False, True], repeat=num_vars):\n",
    "        satisfied = True\n",
    "        for clause in clauses:\n",
    "            clause_satisfied = False\n",
    "            for literal in clause:\n",
    "                var_idx = abs(literal) - 1\n",
    "                value = assignment[var_idx]\n",
    "                if (literal > 0 and value) or (literal < 0 and not value):\n",
    "                    clause_satisfied = True\n",
    "                    break\n",
    "            if not clause_satisfied:\n",
    "                satisfied = False\n",
    "                break\n",
    "        if satisfied:\n",
    "            bitstring = ''.join(str(int(bit)) for bit in assignment)\n",
    "            solutions.append(bitstring)\n",
    "    return solutions\n",
    "\n"
   ]
  },
  {
   "cell_type": "code",
   "execution_count": 17,
   "id": "cb057b09",
   "metadata": {},
   "outputs": [],
   "source": [
    "s = is_satisfiable(Bfunc, n)"
   ]
  },
  {
   "cell_type": "code",
   "execution_count": 18,
   "id": "b6b3bd91",
   "metadata": {},
   "outputs": [
    {
     "name": "stdout",
     "output_type": "stream",
     "text": [
      "Assignments comparision with classical solver:\n",
      "Counts keys : ['0000110', '0000111', '0011101', '0100110', '0100111', '0101110', '1000110', '1000111', '1011101', '1100110', '1100111', '1101110']\n",
      "S bitstrings : ['0000110', '0000111', '0011101', '0100110', '0100111', '0101110', '1000110', '1000111', '1011101', '1100110', '1100111', '1101110']\n",
      "Keys in counts but not in s: set()\n",
      "Keys in s but not in counts: set()\n",
      "num_clauses 8 complexity: 21\n",
      "Complexity per clause: 2.625\n"
     ]
    }
   ],
   "source": [
    "# Convert s (list of solutions) to bitstrings\n",
    "s_bitstrings = set(bitstring[::-1] for bitstring in s)\n",
    "\n",
    "# Keys present in counts but not in s\n",
    "counts_keys = set(counts.keys())\n",
    "diff_counts_not_in_s = counts_keys - s_bitstrings\n",
    "\n",
    "# Keys present in s but not in counts\n",
    "diff_s_not_in_counts = s_bitstrings - counts_keys\n",
    "\n",
    "print('Assignments comparision with classical solver:')\n",
    "print(\"Counts keys :\", sorted(counts_keys))\n",
    "print(\"S bitstrings :\", sorted(s_bitstrings))\n",
    "print(\"Keys in counts but not in s:\", diff_counts_not_in_s)\n",
    "print(\"Keys in s but not in counts:\", diff_s_not_in_counts)\n",
    "print('num_clauses', len(Bfunc), 'complexity:', complexity)\n",
    "print(\"Complexity per clause:\", cxcount / len(Bfunc))\n"
   ]
  },
  {
   "cell_type": "markdown",
   "id": "d234e7ba",
   "metadata": {},
   "source": [
    "### uncomment to show the circuit"
   ]
  },
  {
   "cell_type": "code",
   "execution_count": 19,
   "id": "27a04254",
   "metadata": {},
   "outputs": [],
   "source": [
    "# circ.draw('mpl')"
   ]
  }
 ],
 "metadata": {
  "kernelspec": {
   "display_name": ".venv",
   "language": "python",
   "name": "python3"
  },
  "language_info": {
   "codemirror_mode": {
    "name": "ipython",
    "version": 3
   },
   "file_extension": ".py",
   "mimetype": "text/x-python",
   "name": "python",
   "nbconvert_exporter": "python",
   "pygments_lexer": "ipython3",
   "version": "3.11.9"
  }
 },
 "nbformat": 4,
 "nbformat_minor": 5
}
